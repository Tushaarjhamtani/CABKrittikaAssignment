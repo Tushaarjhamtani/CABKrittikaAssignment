{
 "cells": [
  {
   "cell_type": "markdown",
   "id": "8b613aa5",
   "metadata": {},
   "source": [
    "This is the first assignement "
   ]
  },
  {
   "cell_type": "code",
   "execution_count": 150,
   "id": "4c7b37b9",
   "metadata": {},
   "outputs": [],
   "source": [
    "import matplotlib.pyplot as plt\n",
    "import math"
   ]
  },
  {
   "cell_type": "code",
   "execution_count": 139,
   "id": "6f03edf0",
   "metadata": {},
   "outputs": [],
   "source": [
    "import numpy as np"
   ]
  },
  {
   "cell_type": "code",
   "execution_count": 140,
   "id": "9b6a955e",
   "metadata": {},
   "outputs": [],
   "source": [
    "%matplotlib inline\n",
    "import pandas as pd"
   ]
  },
  {
   "cell_type": "markdown",
   "id": "39e19c58",
   "metadata": {},
   "source": [
    "Reading the data"
   ]
  },
  {
   "cell_type": "code",
   "execution_count": 141,
   "id": "212c6063",
   "metadata": {},
   "outputs": [
    {
     "name": "stdout",
     "output_type": "stream",
     "text": [
      "     56.56677415601188  24.189734528215197  7.3935352662039655   8.208464\n",
      "0            56.557355           24.196560            7.545835   7.323018\n",
      "1            56.613757           24.254807            7.217771   7.339084\n",
      "2            56.642808           24.138091            3.511365  11.468399\n",
      "3            56.663986           24.103001            7.418397   9.191837\n",
      "4            56.477255           24.252647            0.448486  10.442434\n",
      "..                 ...                 ...                 ...        ...\n",
      "190          56.085556           24.772663            7.184981  10.851324\n",
      "191          57.413389           24.227447            0.731824  11.703114\n",
      "192          57.275547           23.781044            7.209080  10.420579\n",
      "193          56.352150           23.486739            3.247452  11.549389\n",
      "194          55.894421           24.593812            0.312350  11.863298\n",
      "\n",
      "[195 rows x 4 columns]\n"
     ]
    }
   ],
   "source": [
    "mydata=pd.read_csv(r\"C:\\Users\\tusha\\OneDrive\\Documents\\python cab\\stardata1.txt\", header = 0, sep = ',')\n",
    "print ((mydata))"
   ]
  },
  {
   "cell_type": "code",
   "execution_count": 183,
   "id": "f5bcd9cc",
   "metadata": {},
   "outputs": [],
   "source": [
    "mydata.columns=mydata.columns=['ra','dec','pa','am']"
   ]
  },
  {
   "cell_type": "code",
   "execution_count": 184,
   "id": "9dae0f74",
   "metadata": {},
   "outputs": [],
   "source": [
    "from numpy import loadtxt"
   ]
  },
  {
   "cell_type": "markdown",
   "id": "32705c95",
   "metadata": {},
   "source": [
    "Importing data in array"
   ]
  },
  {
   "cell_type": "code",
   "execution_count": 169,
   "id": "e6e36775",
   "metadata": {},
   "outputs": [
    {
     "name": "stdout",
     "output_type": "stream",
     "text": [
      "[ 7.39353527  7.54583475  7.2177712   3.51136459  7.41839694  0.44848554\n",
      "  3.3609897   7.7087871   7.43157032  3.73306992  1.09832088  2.56624504\n",
      "  7.35086252  7.76278611  1.14466245  7.32028628  7.22602532  9.47796016\n",
      " 10.64316816  0.35308933  7.50300663  7.3470686   9.66270441  2.61791258\n",
      "  7.44495256  7.37347028  1.64724973  3.16567647  9.47814438  7.36992489\n",
      "  0.94838473  1.17865478  7.16602934  7.96884014  0.58772051  7.38442866\n",
      "  7.3115936   0.77780278  1.81751422  2.77280269  8.0033936   2.15977574\n",
      "  7.43543981  0.85310548  7.31661265  7.34534678  5.66551697  0.48596413\n",
      "  7.05978635  1.56434084  0.42539652  1.5952662   0.81462035  8.70405407\n",
      "  0.72001341  7.28304823  7.19581003  7.18047029  0.26106761  7.56582086\n",
      "  7.52338838  6.47221726  8.96905582  7.39703457  0.80404389  5.85649322\n",
      "  0.37626327  1.03801631  7.42277845  7.39987117  7.52802526  7.4153875\n",
      " 10.13550657  1.84778815  6.99273025  0.53717778  0.69627878  6.63553508\n",
      "  7.18625301  7.83058296  7.12711073  6.36602324  7.56890683  0.42332755\n",
      "  0.67049604  1.2033902   7.20805134  7.28053168  2.03385349  7.34693099\n",
      "  0.51770285  1.64779222  0.75077432  7.3792834   7.95229114  3.18818643\n",
      "  0.5625321   4.74600629  7.8403082   6.94959498  7.17324356  3.90336337\n",
      "  0.77198153  3.02642155 14.9643617   2.42276856  2.08563148  7.52831185\n",
      "  7.03705582  7.32131503  7.34694823  0.56886804  5.24133877  1.3706023\n",
      " 10.26065045  7.60362332  2.77762379  6.96693236  0.36228493  1.93634801\n",
      "  7.60493102  3.28746683  7.14845996  1.54205836  7.34952552  2.15180527\n",
      "  7.62361879  7.40655131  3.01690179  0.94370847  3.41900718  7.34534208\n",
      "  0.20087012  7.37802775  4.05794587  1.18928505  3.11677079  7.41056925\n",
      "  0.65298325  7.22643316  7.38569851  3.67346584  7.72294519  1.25166315\n",
      "  8.42923609  0.74296047  7.41813732  5.20937841  1.90187873  1.09006012\n",
      "  1.08417282  2.4442756   0.43535432  7.14857491  0.80241761  4.67134828\n",
      "  1.25691324 11.57251875  3.06340458  3.71563843  6.96670747  0.67826555\n",
      "  3.93630291  7.35516303  2.51219726  7.34047391  1.8363383   7.04034492\n",
      "  4.91373751  1.46826784  0.25674791  4.69239899  7.22092011  7.09588664\n",
      "  1.42728623  0.19349296  7.44852252  3.45537659  7.11853141  7.46050783\n",
      "  2.78743487  7.2802985   5.50726964  1.07545377  5.12118443  3.62826322\n",
      "  7.4086442   4.63065768  3.19366832  1.97171537  7.36500126  7.18498052\n",
      "  0.7318242   7.20908009  3.24745188  0.31234968]\n"
     ]
    }
   ],
   "source": [
    "import numpy as np\n",
    "path = open(r\"C:\\Users\\tusha\\OneDrive\\Documents\\python cab\\stardata1.txt\")\n",
    "array = np.loadtxt(path, delimiter=\",\",dtype='float')\n",
    "print(array[:,2])"
   ]
  },
  {
   "cell_type": "markdown",
   "id": "93d7f042",
   "metadata": {},
   "source": [
    "Creating an array with the value of absolute magnitude and then creating an histogram with 50 bins"
   ]
  },
  {
   "cell_type": "code",
   "execution_count": 180,
   "id": "3d817a77",
   "metadata": {},
   "outputs": [
    {
     "data": {
      "text/plain": [
       "array([[17.55272474],\n",
       "       [16.71155445],\n",
       "       [16.63109956],\n",
       "       [19.19577863],\n",
       "       [18.54338734],\n",
       "       [13.7011762 ],\n",
       "       [18.07388491],\n",
       "       [19.90687626],\n",
       "       [19.75593496],\n",
       "       [19.53961662],\n",
       "       [15.98009221],\n",
       "       [18.99480362],\n",
       "       [21.2965835 ],\n",
       "       [18.7625361 ],\n",
       "       [16.20882019],\n",
       "       [18.69096333],\n",
       "       [17.11260839],\n",
       "       [13.69066559],\n",
       "       [18.73689762],\n",
       "       [14.25662395],\n",
       "       [19.35783865],\n",
       "       [17.56223747],\n",
       "       [17.07199247],\n",
       "       [17.7811047 ],\n",
       "       [15.64314417],\n",
       "       [20.20173917],\n",
       "       [17.67832022],\n",
       "       [18.06701064],\n",
       "       [13.9743906 ],\n",
       "       [17.66019831],\n",
       "       [16.32400376],\n",
       "       [15.77783061],\n",
       "       [16.07484431],\n",
       "       [12.28001447],\n",
       "       [15.84555424],\n",
       "       [17.3471435 ],\n",
       "       [20.40920022],\n",
       "       [15.85071445],\n",
       "       [17.61335809],\n",
       "       [18.73120984],\n",
       "       [18.05395188],\n",
       "       [18.3671498 ],\n",
       "       [17.89673131],\n",
       "       [15.82636465],\n",
       "       [19.72038432],\n",
       "       [15.73906092],\n",
       "       [19.54438772],\n",
       "       [14.54808907],\n",
       "       [16.03091679],\n",
       "       [16.21980692],\n",
       "       [13.37592168],\n",
       "       [17.86809581],\n",
       "       [16.18599928],\n",
       "       [13.3398473 ],\n",
       "       [14.88004991],\n",
       "       [19.04578593],\n",
       "       [16.55855645],\n",
       "       [19.57754645],\n",
       "       [12.81449701],\n",
       "       [15.13352997],\n",
       "       [14.80871891],\n",
       "       [19.23271343],\n",
       "       [14.00070063],\n",
       "       [20.53549924],\n",
       "       [15.87571177],\n",
       "       [19.57582022],\n",
       "       [14.75912013],\n",
       "       [16.83319589],\n",
       "       [19.62659549],\n",
       "       [19.38415479],\n",
       "       [20.78801634],\n",
       "       [19.10334925],\n",
       "       [20.7007623 ],\n",
       "       [16.09969289],\n",
       "       [17.42452288],\n",
       "       [13.1626802 ],\n",
       "       [14.92943379],\n",
       "       [20.56916675],\n",
       "       [19.86964852],\n",
       "       [17.08696907],\n",
       "       [16.24632653],\n",
       "       [18.3549021 ],\n",
       "       [18.9816588 ],\n",
       "       [14.27393965],\n",
       "       [15.77993508],\n",
       "       [15.27880736],\n",
       "       [18.25173836],\n",
       "       [21.00040548],\n",
       "       [18.20231533],\n",
       "       [21.2199118 ],\n",
       "       [15.39202779],\n",
       "       [17.07444524],\n",
       "       [15.08132306],\n",
       "       [19.23419795],\n",
       "       [17.61470336],\n",
       "       [17.93430154],\n",
       "       [14.42056305],\n",
       "       [17.32551305],\n",
       "       [16.39538607],\n",
       "       [20.25802147],\n",
       "       [20.15053889],\n",
       "       [18.92721291],\n",
       "       [14.74485756],\n",
       "       [17.4790351 ],\n",
       "       [17.72459098],\n",
       "       [15.72190464],\n",
       "       [17.56668487],\n",
       "       [20.54824   ],\n",
       "       [21.08199148],\n",
       "       [19.56284447],\n",
       "       [20.5396889 ],\n",
       "       [13.35587866],\n",
       "       [18.82621416],\n",
       "       [16.11229728],\n",
       "       [21.21914346],\n",
       "       [20.99372797],\n",
       "       [17.30998662],\n",
       "       [19.91460997],\n",
       "       [14.38947432],\n",
       "       [16.18709707],\n",
       "       [17.13757209],\n",
       "       [18.9819609 ],\n",
       "       [17.29626345],\n",
       "       [17.71052805],\n",
       "       [18.21185751],\n",
       "       [18.05993483],\n",
       "       [20.51609186],\n",
       "       [20.60644818],\n",
       "       [18.75660286],\n",
       "       [15.79543025],\n",
       "       [19.50667607],\n",
       "       [19.73919513],\n",
       "       [13.32831369],\n",
       "       [19.86824642],\n",
       "       [19.55709525],\n",
       "       [17.01331829],\n",
       "       [18.58537332],\n",
       "       [19.73252585],\n",
       "       [14.73852422],\n",
       "       [17.48110795],\n",
       "       [18.87554388],\n",
       "       [19.65544603],\n",
       "       [14.62461856],\n",
       "       [17.36225533],\n",
       "       [13.16017229],\n",
       "       [15.97410153],\n",
       "       [17.37936934],\n",
       "       [15.97937853],\n",
       "       [18.2157051 ],\n",
       "       [16.69759825],\n",
       "       [16.85950458],\n",
       "       [18.56334786],\n",
       "       [14.52854827],\n",
       "       [21.22161786],\n",
       "       [15.59953326],\n",
       "       [18.10212124],\n",
       "       [16.86952551],\n",
       "       [16.68620247],\n",
       "       [19.33971379],\n",
       "       [18.57046723],\n",
       "       [16.72631018],\n",
       "       [15.7678748 ],\n",
       "       [19.87930256],\n",
       "       [17.27360452],\n",
       "       [18.65870869],\n",
       "       [14.951748  ],\n",
       "       [16.23825746],\n",
       "       [15.82701268],\n",
       "       [19.02338477],\n",
       "       [16.24986843],\n",
       "       [13.5698996 ],\n",
       "       [19.95701066],\n",
       "       [21.2609412 ],\n",
       "       [19.24115734],\n",
       "       [14.75199338],\n",
       "       [12.56909985],\n",
       "       [17.44829367],\n",
       "       [19.63708393],\n",
       "       [19.62299703],\n",
       "       [20.63276695],\n",
       "       [15.64235764],\n",
       "       [18.87329993],\n",
       "       [18.0692237 ],\n",
       "       [15.10659174],\n",
       "       [20.07009408],\n",
       "       [18.71263793],\n",
       "       [19.06124569],\n",
       "       [20.20202938],\n",
       "       [18.67601005],\n",
       "       [18.31474011],\n",
       "       [20.80052213],\n",
       "       [20.13345198],\n",
       "       [16.02514835],\n",
       "       [19.70997825],\n",
       "       [19.10710262],\n",
       "       [ 0.        ],\n",
       "       [ 0.        ],\n",
       "       [ 0.        ],\n",
       "       [ 0.        ],\n",
       "       [ 0.        ]])"
      ]
     },
     "execution_count": 180,
     "metadata": {},
     "output_type": "execute_result"
    }
   ],
   "source": [
    "a=np.zeros((200,1),dtype=float)\n",
    "for i in range (0,195):\n",
    "    a[i]=(math.log(float(array[i,2]),10))*5+5+(array[i,3])\n",
    "a"
   ]
  },
  {
   "cell_type": "code",
   "execution_count": 182,
   "id": "5dba3591",
   "metadata": {},
   "outputs": [
    {
     "data": {
      "text/plain": [
       "(array([ 5.,  0.,  0.,  0.,  0.,  0.,  0.,  0.,  0.,  0.,  0.,  0.,  0.,\n",
       "         0.,  0.,  0.,  0.,  0.,  0.,  0.,  0.,  0.,  0.,  0.,  0.,  0.,\n",
       "         0.,  0.,  1.,  1.,  3.,  5.,  4.,  4.,  9.,  6.,  6., 17., 10.,\n",
       "         9., 14., 13., 13., 12., 14., 14., 15.,  7., 10.,  8.]),\n",
       " array([ 0.        ,  0.42593167,  0.85186334,  1.27779501,  1.70372668,\n",
       "         2.12965835,  2.55559002,  2.98152169,  3.40745336,  3.83338503,\n",
       "         4.2593167 ,  4.68524837,  5.11118004,  5.53711171,  5.96304338,\n",
       "         6.38897505,  6.81490672,  7.24083839,  7.66677006,  8.09270173,\n",
       "         8.5186334 ,  8.94456507,  9.37049674,  9.79642841, 10.22236008,\n",
       "        10.64829175, 11.07422342, 11.50015509, 11.92608676, 12.35201843,\n",
       "        12.7779501 , 13.20388177, 13.62981344, 14.05574511, 14.48167678,\n",
       "        14.90760845, 15.33354012, 15.75947179, 16.18540346, 16.61133513,\n",
       "        17.0372668 , 17.46319847, 17.88913014, 18.31506181, 18.74099348,\n",
       "        19.16692515, 19.59285682, 20.01878849, 20.44472016, 20.87065183,\n",
       "        21.2965835 ]),\n",
       " <BarContainer object of 50 artists>)"
      ]
     },
     "execution_count": 182,
     "metadata": {},
     "output_type": "execute_result"
    },
    {
     "data": {
      "image/png": "[encoded data removed]",
      "text/plain": [
       "<Figure size 432x288 with 1 Axes>"
      ]
     },
     "metadata": {
      "needs_background": "light"
     },
     "output_type": "display_data"
    }
   ],
   "source": [
    "plt.hist(a,bins=50)"
   ]
  },
  {
   "cell_type": "code",
   "execution_count": null,
   "id": "65dc2636",
   "metadata": {},
   "outputs": [],
   "source": [
    "Scatter plot with variable size"
   ]
  },
  {
   "cell_type": "code",
   "execution_count": 144,
   "id": "f13fbad2",
   "metadata": {},
   "outputs": [
    {
     "data": {
      "text/plain": [
       "Text(0, 0.5, 'Generosity Score')"
      ]
     },
     "execution_count": 144,
     "metadata": {},
     "output_type": "execute_result"
    },
    {
     "data": {
      "image/png": "[encoded data removed]",
      "text/plain": [
       "<Figure size 720x432 with 1 Axes>"
      ]
     },
     "metadata": {
      "needs_background": "light"
     },
     "output_type": "display_data"
    }
   ],
   "source": [
    "fig, ax = plt.subplots(figsize=(10, 6))\n",
    "ax.scatter(x = mydata['dec'], y = mydata['ra'], s = (12-mydata['am']))\n",
    "plt.xlabel(\"GDP per Capita\")\n",
    "plt.ylabel(\"Generosity Score\")"
   ]
  }
 ],
 "metadata": {
  "kernelspec": {
   "display_name": "Python 3 (ipykernel)",
   "language": "python",
   "name": "python3"
  },
  "language_info": {
   "codemirror_mode": {
    "name": "ipython",
    "version": 3
   },
   "file_extension": ".py",
   "mimetype": "text/x-python",
   "name": "python",
   "nbconvert_exporter": "python",
   "pygments_lexer": "ipython3",
   "version": "3.9.12"
  }
 },
 "nbformat": 4,
 "nbformat_minor": 5
}
