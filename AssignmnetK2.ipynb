{
 "cells": [
  {
   "cell_type": "markdown",
   "id": "8c0f9b97",
   "metadata": {},
   "source": [
    "This is the second assignement "
   ]
  },
  {
   "cell_type": "code",
   "execution_count": 7,
   "id": "c83ec83c",
   "metadata": {},
   "outputs": [],
   "source": [
    "import matplotlib.pyplot as plt\n",
    "import numpy as np\n",
    "%matplotlib inline\n",
    "import pandas as pd"
   ]
  },
  {
   "cell_type": "markdown",
   "id": "d5e30079",
   "metadata": {},
   "source": [
    "Reading the data"
   ]
  },
  {
   "cell_type": "code",
   "execution_count": 8,
   "id": "24ab7371",
   "metadata": {},
   "outputs": [
    {
     "name": "stdout",
     "output_type": "stream",
     "text": [
      "       mod0   vgsr\n",
      "0     36.65  15080\n",
      "1     37.29  18221\n",
      "2     33.75   3129\n",
      "3     32.66   4486\n",
      "4     33.37   4564\n",
      "...     ...    ...\n",
      "4059  34.09   4843\n",
      "4060  37.62  23832\n",
      "4061  36.06  11410\n",
      "4062  35.96   9105\n",
      "4063  34.96   7952\n",
      "\n",
      "[4064 rows x 2 columns]\n"
     ]
    }
   ],
   "source": [
    "mydata=pd.read_csv(r\"C:\\Users\\tusha\\OneDrive\\Documents\\python cab\\data.txt\", header = 0, sep = ',')\n",
    "print ((mydata))"
   ]
  },
  {
   "cell_type": "code",
   "execution_count": 9,
   "id": "209bf31f",
   "metadata": {},
   "outputs": [],
   "source": [
    "mydata.columns=mydata.columns=['mod0','vgsr']"
   ]
  },
  {
   "cell_type": "code",
   "execution_count": 11,
   "id": "64d88d42",
   "metadata": {},
   "outputs": [],
   "source": [
    "arr = mydata.to_numpy()"
   ]
  },
  {
   "cell_type": "code",
   "execution_count": 12,
   "id": "8a1fe09a",
   "metadata": {},
   "outputs": [
    {
     "data": {
      "text/plain": [
       "array([[   36.65, 15080.  ],\n",
       "       [   37.29, 18221.  ],\n",
       "       [   33.75,  3129.  ],\n",
       "       ...,\n",
       "       [   36.06, 11410.  ],\n",
       "       [   35.96,  9105.  ],\n",
       "       [   34.96,  7952.  ]])"
      ]
     },
     "execution_count": 12,
     "metadata": {},
     "output_type": "execute_result"
    }
   ],
   "source": [
    "arr"
   ]
  },
  {
   "cell_type": "markdown",
   "id": "75c7f606",
   "metadata": {},
   "source": [
    "Finding the value of distance using the given formula"
   ]
  },
  {
   "cell_type": "code",
   "execution_count": 14,
   "id": "ac97f3af",
   "metadata": {},
   "outputs": [],
   "source": [
    "aa=10**(((arr[:,0])/5)-5)"
   ]
  },
  {
   "cell_type": "code",
   "execution_count": 89,
   "id": "9e8ca965",
   "metadata": {},
   "outputs": [
    {
     "data": {
      "text/plain": [
       "array([213.79620895, 287.0780582 ,  56.23413252, ..., 162.92960326,\n",
       "       155.59656316,  98.1747943 ])"
      ]
     },
     "execution_count": 89,
     "metadata": {},
     "output_type": "execute_result"
    }
   ],
   "source": [
    "aa"
   ]
  },
  {
   "cell_type": "markdown",
   "id": "acd12c55",
   "metadata": {},
   "source": [
    "Preliminary Data Visualization"
   ]
  },
  {
   "cell_type": "code",
   "execution_count": 16,
   "id": "019b6a31",
   "metadata": {},
   "outputs": [
    {
     "data": {
      "text/plain": [
       "<matplotlib.collections.PathCollection at 0x2948a75b400>"
      ]
     },
     "execution_count": 16,
     "metadata": {},
     "output_type": "execute_result"
    },
    {
     "data": {
      "image/png": "[encoded data removed]",
      "text/plain": [
       "<Figure size 432x288 with 1 Axes>"
      ]
     },
     "metadata": {
      "needs_background": "light"
     },
     "output_type": "display_data"
    }
   ],
   "source": [
    "plt.scatter(aa,arr[:,1])"
   ]
  },
  {
   "cell_type": "code",
   "execution_count": 4,
   "id": "724231d0",
   "metadata": {},
   "outputs": [
    {
     "name": "stdout",
     "output_type": "stream",
     "text": [
      "Requirement already satisfied: scipy in c:\\users\\tusha\\miniconda3\\lib\\site-packages (1.7.3)\n",
      "Requirement already satisfied: numpy<1.23.0,>=1.16.5 in c:\\users\\tusha\\miniconda3\\lib\\site-packages (from scipy) (1.22.4)\n"
     ]
    }
   ],
   "source": [
    "!pip install scipy"
   ]
  },
  {
   "cell_type": "code",
   "execution_count": 5,
   "id": "0c7777d2",
   "metadata": {},
   "outputs": [],
   "source": [
    "import scipy"
   ]
  },
  {
   "cell_type": "code",
   "execution_count": 6,
   "id": "e8ab2f75",
   "metadata": {},
   "outputs": [],
   "source": [
    "from scipy.optimize import curve_fit as cf"
   ]
  },
  {
   "cell_type": "code",
   "execution_count": 17,
   "id": "8e21b0de",
   "metadata": {},
   "outputs": [],
   "source": [
    "def lin_func(x,m,c):\n",
    "    return m*x + c"
   ]
  },
  {
   "cell_type": "code",
   "execution_count": 19,
   "id": "a1e2a792",
   "metadata": {},
   "outputs": [],
   "source": [
    "p_opt, p_cov = cf(lin_func,aa,arr[:,1])"
   ]
  },
  {
   "cell_type": "code",
   "execution_count": 22,
   "id": "e56fd4b2",
   "metadata": {},
   "outputs": [
    {
     "data": {
      "text/plain": [
       "<matplotlib.legend.Legend at 0x2948fa43580>"
      ]
     },
     "execution_count": 22,
     "metadata": {},
     "output_type": "execute_result"
    },
    {
     "data": {
      "image/png": "[encoded data removed]",
      "text/plain": [
       "<Figure size 432x288 with 1 Axes>"
      ]
     },
     "metadata": {
      "needs_background": "light"
     },
     "output_type": "display_data"
    }
   ],
   "source": [
    "plt.plot(aa,lin_func(aa,*p_opt),label='Best Fit',color='g')\n",
    "# * before a separable object unpacks it. So you don't need to write lin_func(xdata,p_opt[0],p_opt[1]). The *\n",
    "# does it for you.\n",
    "plt.scatter(aa,arr[:,1],label='OG_Data',s=1,color='darkorange')\n",
    "# Yes, you can have scatter plot and a normal plot in one\n",
    "plt.xlabel('x')\n",
    "plt.ylabel('y')\n",
    "plt.title('Linear Fit')\n",
    "plt.legend()"
   ]
  },
  {
   "cell_type": "code",
   "execution_count": 23,
   "id": "0a021fa8",
   "metadata": {},
   "outputs": [
    {
     "data": {
      "text/plain": [
       "array([ 62.98363409, 712.12417277])"
      ]
     },
     "execution_count": 23,
     "metadata": {},
     "output_type": "execute_result"
    }
   ],
   "source": [
    "p_opt"
   ]
  },
  {
   "cell_type": "code",
   "execution_count": 24,
   "id": "ad9f7391",
   "metadata": {},
   "outputs": [
    {
     "data": {
      "text/plain": [
       "array([[ 6.86741954e-02, -6.36578291e+00],\n",
       "       [-6.36578291e+00,  7.99837289e+03]])"
      ]
     },
     "execution_count": 24,
     "metadata": {},
     "output_type": "execute_result"
    }
   ],
   "source": [
    "p_cov"
   ]
  },
  {
   "cell_type": "code",
   "execution_count": 25,
   "id": "e2ae4e1c",
   "metadata": {},
   "outputs": [],
   "source": [
    "m_opt, c_opt=p_opt"
   ]
  },
  {
   "cell_type": "code",
   "execution_count": 26,
   "id": "4c0800e2",
   "metadata": {},
   "outputs": [],
   "source": [
    "x_model = np.linspace(min(aa), max(aa), 100)"
   ]
  },
  {
   "cell_type": "code",
   "execution_count": 29,
   "id": "eaa041c6",
   "metadata": {},
   "outputs": [],
   "source": [
    "y_model = lin_func(x_model, m_opt, c_opt)"
   ]
  },
  {
   "cell_type": "code",
   "execution_count": 30,
   "id": "cf6efc51",
   "metadata": {},
   "outputs": [
    {
     "data": {
      "image/png": "[encoded data removed]",
      "text/plain": [
       "<Figure size 432x288 with 1 Axes>"
      ]
     },
     "metadata": {
      "needs_background": "light"
     },
     "output_type": "display_data"
    }
   ],
   "source": [
    "plt.scatter(aa,arr[:,1])\n",
    "plt.plot(x_model,y_model, color='r')\n",
    "plt.show()"
   ]
  },
  {
   "cell_type": "code",
   "execution_count": 35,
   "id": "18d062ec",
   "metadata": {},
   "outputs": [
    {
     "data": {
      "text/plain": [
       "array([ 0.26205762, 89.43362282])"
      ]
     },
     "execution_count": 35,
     "metadata": {},
     "output_type": "execute_result"
    }
   ],
   "source": [
    "sv=np.sqrt(np.diag(p_cov))\n",
    "sv"
   ]
  },
  {
   "cell_type": "markdown",
   "id": "be5f0d36",
   "metadata": {},
   "source": [
    "Removing Outliers (OPTIONAL)"
   ]
  },
  {
   "cell_type": "code",
   "execution_count": 36,
   "id": "a7686936",
   "metadata": {},
   "outputs": [],
   "source": [
    "import statistics"
   ]
  },
  {
   "cell_type": "code",
   "execution_count": 39,
   "id": "a8f5783a",
   "metadata": {},
   "outputs": [
    {
     "data": {
      "text/plain": [
       "92.69543626899338"
      ]
     },
     "execution_count": 39,
     "metadata": {},
     "output_type": "execute_result"
    }
   ],
   "source": [
    "avd = statistics.mean(aa)\n",
    "avd"
   ]
  },
  {
   "cell_type": "code",
   "execution_count": 45,
   "id": "4cc74b35",
   "metadata": {},
   "outputs": [
    {
     "data": {
      "text/plain": [
       "0.7861728552210756"
      ]
     },
     "execution_count": 45,
     "metadata": {},
     "output_type": "execute_result"
    }
   ],
   "source": [
    "sv[0]*3"
   ]
  },
  {
   "cell_type": "code",
   "execution_count": 46,
   "id": "3f205ccb",
   "metadata": {},
   "outputs": [
    {
     "data": {
      "text/plain": [
       "91.9092634137723"
      ]
     },
     "execution_count": 46,
     "metadata": {},
     "output_type": "execute_result"
    }
   ],
   "source": [
    "low=avd-3*sv[0]\n",
    "low"
   ]
  },
  {
   "cell_type": "code",
   "execution_count": 47,
   "id": "11da227a",
   "metadata": {},
   "outputs": [
    {
     "data": {
      "text/plain": [
       "93.48160912421446"
      ]
     },
     "execution_count": 47,
     "metadata": {},
     "output_type": "execute_result"
    }
   ],
   "source": [
    "hig=avd+3*sv[0]\n",
    "hig"
   ]
  },
  {
   "cell_type": "code",
   "execution_count": 52,
   "id": "8e86f73b",
   "metadata": {},
   "outputs": [],
   "source": [
    "x_stuff=aa"
   ]
  },
  {
   "cell_type": "code",
   "execution_count": 53,
   "id": "e65bee6b",
   "metadata": {},
   "outputs": [],
   "source": [
    "y_stuff=arr[:,1]"
   ]
  },
  {
   "cell_type": "code",
   "execution_count": 54,
   "id": "d7802991",
   "metadata": {},
   "outputs": [],
   "source": [
    "x_data = x_stuff[(x_stuff>low) & (x_stuff<hig)]\n",
    "y_data = y_stuff[(x_stuff>low) & (x_stuff<hig)]"
   ]
  },
  {
   "cell_type": "code",
   "execution_count": 55,
   "id": "e79157d5",
   "metadata": {},
   "outputs": [
    {
     "data": {
      "image/png": "[encoded data removed]",
      "text/plain": [
       "<Figure size 432x288 with 1 Axes>"
      ]
     },
     "metadata": {
      "needs_background": "light"
     },
     "output_type": "display_data"
    }
   ],
   "source": [
    "plt.scatter(x_data, y_data)\n",
    "plt.show()"
   ]
  },
  {
   "cell_type": "code",
   "execution_count": 57,
   "id": "c18a99a4",
   "metadata": {},
   "outputs": [],
   "source": [
    "popt, pcov = cf(lin_func, x_data, y_data)"
   ]
  },
  {
   "cell_type": "code",
   "execution_count": 58,
   "id": "c3029e84",
   "metadata": {},
   "outputs": [
    {
     "data": {
      "text/plain": [
       "array([  1087.63782696, -94419.75293782])"
      ]
     },
     "execution_count": 58,
     "metadata": {},
     "output_type": "execute_result"
    }
   ],
   "source": [
    "popt"
   ]
  },
  {
   "cell_type": "code",
   "execution_count": 60,
   "id": "0a0bb6d9",
   "metadata": {},
   "outputs": [],
   "source": [
    "M_opt,C_opt = popt\n",
    "x_model = np.linspace(min(x_data), max(x_data), 1000)\n",
    "y_model = lin_func(x_model,M_opt,C_opt)"
   ]
  },
  {
   "cell_type": "code",
   "execution_count": 61,
   "id": "b5431a92",
   "metadata": {},
   "outputs": [
    {
     "data": {
      "image/png": "[encoded data removed]",
      "text/plain": [
       "<Figure size 432x288 with 1 Axes>"
      ]
     },
     "metadata": {
      "needs_background": "light"
     },
     "output_type": "display_data"
    }
   ],
   "source": [
    "plt.scatter(x_data, y_data)\n",
    "plt.plot(x_model, y_model, color='r')\n",
    "plt.show()\n"
   ]
  },
  {
   "cell_type": "code",
   "execution_count": 62,
   "id": "5b05d372",
   "metadata": {},
   "outputs": [
    {
     "data": {
      "text/plain": [
       "array([  1087.63782696, -94419.75293782])"
      ]
     },
     "execution_count": 62,
     "metadata": {},
     "output_type": "execute_result"
    }
   ],
   "source": [
    "popt"
   ]
  },
  {
   "cell_type": "code",
   "execution_count": 63,
   "id": "312434a0",
   "metadata": {},
   "outputs": [
    {
     "data": {
      "text/plain": [
       "array([  619.23289883, 57337.55792585])"
      ]
     },
     "execution_count": 63,
     "metadata": {},
     "output_type": "execute_result"
    }
   ],
   "source": [
    "np.sqrt(np.diag(pcov))"
   ]
  },
  {
   "cell_type": "code",
   "execution_count": 66,
   "id": "5b393270",
   "metadata": {},
   "outputs": [],
   "source": [
    "dl=abs(x_stuff*m_opt -y_stuff+c_opt)"
   ]
  },
  {
   "cell_type": "code",
   "execution_count": 67,
   "id": "281ec77c",
   "metadata": {},
   "outputs": [
    {
     "data": {
      "text/plain": [
       "1496.575097448585"
      ]
     },
     "execution_count": 67,
     "metadata": {},
     "output_type": "execute_result"
    }
   ],
   "source": [
    "avdl = statistics.mean(dl)\n",
    "avdl"
   ]
  },
  {
   "cell_type": "code",
   "execution_count": 68,
   "id": "e0b01220",
   "metadata": {},
   "outputs": [
    {
     "data": {
      "text/plain": [
       "array([ 902.21363255,  572.3435463 , 1124.9541988 , ...,  435.97731257,\n",
       "       1407.16117277, 1056.4705059 ])"
      ]
     },
     "execution_count": 68,
     "metadata": {},
     "output_type": "execute_result"
    }
   ],
   "source": [
    "dl"
   ]
  },
  {
   "cell_type": "code",
   "execution_count": 70,
   "id": "58dfd676",
   "metadata": {},
   "outputs": [],
   "source": [
    "remove=avdl*0.5"
   ]
  },
  {
   "cell_type": "code",
   "execution_count": 71,
   "id": "c13cbee7",
   "metadata": {},
   "outputs": [],
   "source": [
    "l=avdl*0.5"
   ]
  },
  {
   "cell_type": "code",
   "execution_count": 72,
   "id": "3359ad14",
   "metadata": {},
   "outputs": [],
   "source": [
    "h=avdl*1.5"
   ]
  },
  {
   "cell_type": "code",
   "execution_count": 73,
   "id": "68c8da8a",
   "metadata": {},
   "outputs": [],
   "source": [
    "x_d = x_stuff[(x_stuff>l) & (x_stuff<h)]\n",
    "y_d = y_stuff[(x_stuff>l) & (x_stuff<h)]"
   ]
  },
  {
   "cell_type": "code",
   "execution_count": 74,
   "id": "b9999b2f",
   "metadata": {},
   "outputs": [
    {
     "data": {
      "image/png": "[encoded data removed]",
      "text/plain": [
       "<Figure size 432x288 with 1 Axes>"
      ]
     },
     "metadata": {
      "needs_background": "light"
     },
     "output_type": "display_data"
    }
   ],
   "source": [
    "plt.scatter(x_d, y_d)\n",
    "plt.show()"
   ]
  },
  {
   "cell_type": "code",
   "execution_count": 75,
   "id": "7a37ae0c",
   "metadata": {},
   "outputs": [],
   "source": [
    "Popt, Pcov = cf(lin_func, x_d, y_d)"
   ]
  },
  {
   "cell_type": "code",
   "execution_count": 76,
   "id": "d5738a77",
   "metadata": {},
   "outputs": [
    {
     "data": {
      "text/plain": [
       "array([   60.22235233, 22844.30016538])"
      ]
     },
     "execution_count": 76,
     "metadata": {},
     "output_type": "execute_result"
    }
   ],
   "source": [
    "Popt"
   ]
  },
  {
   "cell_type": "code",
   "execution_count": 78,
   "id": "14aa6a53",
   "metadata": {},
   "outputs": [],
   "source": [
    "MM_opt,CC_opt = Popt\n",
    "x_mo = np.linspace(min(x_d), max(x_d), 1000)\n",
    "y_mo = lin_func(x_mo,MM_opt,CC_opt)"
   ]
  },
  {
   "cell_type": "code",
   "execution_count": 80,
   "id": "e590a05b",
   "metadata": {},
   "outputs": [
    {
     "data": {
      "image/png": "[encoded data removed]",
      "text/plain": [
       "<Figure size 432x288 with 1 Axes>"
      ]
     },
     "metadata": {
      "needs_background": "light"
     },
     "output_type": "display_data"
    }
   ],
   "source": [
    "plt.scatter(x_d, y_d)\n",
    "plt.plot(x_mo, y_mo, color='r')\n",
    "plt.show()"
   ]
  },
  {
   "cell_type": "code",
   "execution_count": 81,
   "id": "8cb43297",
   "metadata": {},
   "outputs": [
    {
     "data": {
      "text/plain": [
       "array([   60.22235233, 22844.30016538])"
      ]
     },
     "execution_count": 81,
     "metadata": {},
     "output_type": "execute_result"
    }
   ],
   "source": [
    "Popt"
   ]
  },
  {
   "cell_type": "code",
   "execution_count": 82,
   "id": "7ba3568d",
   "metadata": {},
   "outputs": [
    {
     "data": {
      "text/plain": [
       "array([3.58241813e+00, 5.13985664e+03])"
      ]
     },
     "execution_count": 82,
     "metadata": {},
     "output_type": "execute_result"
    }
   ],
   "source": [
    "np.sqrt(np.diag(Pcov))"
   ]
  },
  {
   "cell_type": "markdown",
   "id": "559a9d12",
   "metadata": {},
   "source": [
    "Conclusion"
   ]
  },
  {
   "cell_type": "code",
   "execution_count": 86,
   "id": "81422053",
   "metadata": {},
   "outputs": [
    {
     "data": {
      "text/plain": [
       "60.222352332178865"
      ]
     },
     "execution_count": 86,
     "metadata": {},
     "output_type": "execute_result"
    }
   ],
   "source": [
    "Hnod=MM_opt\n",
    "Hnod"
   ]
  },
  {
   "cell_type": "code",
   "execution_count": 87,
   "id": "211d8050",
   "metadata": {},
   "outputs": [],
   "source": [
    "age=1/Hnod"
   ]
  },
  {
   "cell_type": "code",
   "execution_count": 91,
   "id": "c771eb7a",
   "metadata": {},
   "outputs": [
    {
     "name": "stdout",
     "output_type": "stream",
     "text": [
      "Final answer 0.01660513017631936\n"
     ]
    }
   ],
   "source": [
    "print('Final answer',age)"
   ]
  }
 ],
 "metadata": {
  "kernelspec": {
   "display_name": "Python 3 (ipykernel)",
   "language": "python",
   "name": "python3"
  },
  "language_info": {
   "codemirror_mode": {
    "name": "ipython",
    "version": 3
   },
   "file_extension": ".py",
   "mimetype": "text/x-python",
   "name": "python",
   "nbconvert_exporter": "python",
   "pygments_lexer": "ipython3",
   "version": "3.9.12"
  }
 },
 "nbformat": 4,
 "nbformat_minor": 5
}
